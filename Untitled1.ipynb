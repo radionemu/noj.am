{
  "nbformat": 4,
  "nbformat_minor": 0,
  "metadata": {
    "colab": {
      "name": "Untitled1.ipynb",
      "provenance": [],
      "collapsed_sections": [],
      "authorship_tag": "ABX9TyMrkMrFwGy+Q1VwR+h4l0U8",
      "include_colab_link": true
    },
    "kernelspec": {
      "name": "python3",
      "display_name": "Python 3"
    },
    "language_info": {
      "name": "python"
    }
  },
  "cells": [
    {
      "cell_type": "markdown",
      "metadata": {
        "id": "view-in-github",
        "colab_type": "text"
      },
      "source": [
        "<a href=\"https://colab.research.google.com/github/radionemu/noj.am/blob/main/Untitled1.ipynb\" target=\"_parent\"><img src=\"https://colab.research.google.com/assets/colab-badge.svg\" alt=\"Open In Colab\"/></a>"
      ]
    },
    {
      "cell_type": "code",
      "metadata": {
        "colab": {
          "base_uri": "https://localhost:8080/"
        },
        "id": "WvcDlpymuzKp",
        "outputId": "56dfbd0b-090e-4181-8693-0cfb2af4cace"
      },
      "source": [
        "import numpy as np\n",
        "A=np.array([[True, True],[True,False],[True,False]])\n",
        "A\n",
        "np.all(A, axis=0),np.all(A, axis=1)"
      ],
      "execution_count": null,
      "outputs": [
        {
          "output_type": "execute_result",
          "data": {
            "text/plain": [
              "(array([ True, False]), array([ True, False, False]))"
            ]
          },
          "metadata": {},
          "execution_count": 2
        }
      ]
    },
    {
      "cell_type": "code",
      "metadata": {
        "colab": {
          "base_uri": "https://localhost:8080/"
        },
        "id": "mMo7t_QJvY4N",
        "outputId": "f79dbe0e-5dcc-46c6-d9e0-e695b1f2bf23"
      },
      "source": [
        "import numpy as np\n",
        "A=np.array([[True, True],[True,False],[True,False]])\n",
        "A\n",
        "np.any(A, axis=0),np.any(A, axis=1)"
      ],
      "execution_count": null,
      "outputs": [
        {
          "output_type": "execute_result",
          "data": {
            "text/plain": [
              "(array([ True,  True]), array([ True,  True,  True]))"
            ]
          },
          "metadata": {},
          "execution_count": 3
        }
      ]
    },
    {
      "cell_type": "code",
      "metadata": {
        "colab": {
          "base_uri": "https://localhost:8080/"
        },
        "id": "rgf2yF-Wvnd5",
        "outputId": "8b67a75c-f851-4143-f9d0-5a06cab8f469"
      },
      "source": [
        "import numpy as np\n",
        "A=np.array([[3,0,0],[0,4,0],[5,6,0]])\n",
        "A"
      ],
      "execution_count": null,
      "outputs": [
        {
          "output_type": "execute_result",
          "data": {
            "text/plain": [
              "array([[3, 0, 0],\n",
              "       [0, 4, 0],\n",
              "       [5, 6, 0]])"
            ]
          },
          "metadata": {},
          "execution_count": 5
        }
      ]
    },
    {
      "cell_type": "code",
      "metadata": {
        "colab": {
          "base_uri": "https://localhost:8080/"
        },
        "id": "wCz0p2zrv4de",
        "outputId": "24d62a68-6ec1-4c99-a26c-2a4f239ef6f2"
      },
      "source": [
        "np.nonzero(A)"
      ],
      "execution_count": null,
      "outputs": [
        {
          "output_type": "execute_result",
          "data": {
            "text/plain": [
              "(array([0, 1, 2, 2]), array([0, 1, 0, 1]))"
            ]
          },
          "metadata": {},
          "execution_count": 6
        }
      ]
    },
    {
      "cell_type": "code",
      "metadata": {
        "colab": {
          "base_uri": "https://localhost:8080/"
        },
        "id": "_yP7p2jXv9Xj",
        "outputId": "cc6baef1-c5ab-4077-a531-4e77f97dce4c"
      },
      "source": [
        "B=A[np.nonzero(A)]\n",
        "B"
      ],
      "execution_count": null,
      "outputs": [
        {
          "output_type": "execute_result",
          "data": {
            "text/plain": [
              "array([3, 4, 5, 6])"
            ]
          },
          "metadata": {},
          "execution_count": 7
        }
      ]
    },
    {
      "cell_type": "code",
      "metadata": {
        "colab": {
          "base_uri": "https://localhost:8080/"
        },
        "id": "pEa_GIOUwGn8",
        "outputId": "07ac6050-2d9b-4b95-9f9a-8286544a0557"
      },
      "source": [
        "np.transpose(np.nonzero(A))"
      ],
      "execution_count": null,
      "outputs": [
        {
          "output_type": "execute_result",
          "data": {
            "text/plain": [
              "array([[0, 0],\n",
              "       [1, 1],\n",
              "       [2, 0],\n",
              "       [2, 1]])"
            ]
          },
          "metadata": {},
          "execution_count": 8
        }
      ]
    },
    {
      "cell_type": "code",
      "metadata": {
        "colab": {
          "base_uri": "https://localhost:8080/"
        },
        "id": "0R7eREDRwPEi",
        "outputId": "9d1f6c1c-2365-433a-aefa-bd48d29b5975"
      },
      "source": [
        "a=np.arange(10)\n",
        "a"
      ],
      "execution_count": null,
      "outputs": [
        {
          "output_type": "execute_result",
          "data": {
            "text/plain": [
              "array([0, 1, 2, 3, 4, 5, 6, 7, 8, 9])"
            ]
          },
          "metadata": {},
          "execution_count": 9
        }
      ]
    },
    {
      "cell_type": "code",
      "metadata": {
        "colab": {
          "base_uri": "https://localhost:8080/"
        },
        "id": "ZVhl0prAwRjA",
        "outputId": "985b5a4a-8f93-43a2-f15a-e1fe28e3a3b5"
      },
      "source": [
        "np.where(a<5,a,10*a)"
      ],
      "execution_count": null,
      "outputs": [
        {
          "output_type": "execute_result",
          "data": {
            "text/plain": [
              "array([ 0,  1,  2,  3,  4, 50, 60, 70, 80, 90])"
            ]
          },
          "metadata": {},
          "execution_count": 10
        }
      ]
    },
    {
      "cell_type": "code",
      "metadata": {
        "colab": {
          "base_uri": "https://localhost:8080/"
        },
        "id": "bTAf8xEO6sSq",
        "outputId": "197281ba-9d12-44b8-fc02-cf49b6817ca3"
      },
      "source": [
        "A=np.arange(6).reshape(2,3)+10\n",
        "A"
      ],
      "execution_count": null,
      "outputs": [
        {
          "output_type": "execute_result",
          "data": {
            "text/plain": [
              "array([[10, 11, 12],\n",
              "       [13, 14, 15]])"
            ]
          },
          "metadata": {},
          "execution_count": 11
        }
      ]
    },
    {
      "cell_type": "code",
      "metadata": {
        "colab": {
          "base_uri": "https://localhost:8080/"
        },
        "id": "lL5vSJE57OVM",
        "outputId": "f88b66cb-7d96-4745-ec57-e9190047052d"
      },
      "source": [
        "np.argmax(A),np.argmax(A, axis=0), np.argmax(A,axis=1)"
      ],
      "execution_count": null,
      "outputs": [
        {
          "output_type": "execute_result",
          "data": {
            "text/plain": [
              "(5, array([1, 1, 1]), array([2, 2]))"
            ]
          },
          "metadata": {},
          "execution_count": 12
        }
      ]
    },
    {
      "cell_type": "code",
      "metadata": {
        "colab": {
          "base_uri": "https://localhost:8080/"
        },
        "id": "faLqk2-N7Xe3",
        "outputId": "7967f3e0-e9da-4eee-8f7a-5570e21a2d01"
      },
      "source": [
        "np.argmin(A), np.argmin(A, axis=0), np.argmax(A, axis=1)"
      ],
      "execution_count": null,
      "outputs": [
        {
          "output_type": "execute_result",
          "data": {
            "text/plain": [
              "(0, array([0, 0, 0]), array([2, 2]))"
            ]
          },
          "metadata": {},
          "execution_count": 13
        }
      ]
    },
    {
      "cell_type": "code",
      "metadata": {
        "colab": {
          "base_uri": "https://localhost:8080/"
        },
        "id": "QlHjeXO98Er6",
        "outputId": "db65458f-75d0-4452-83e0-7a20753662c0"
      },
      "source": [
        "x=np.array([3,1,2])\n",
        "y=np.argsort(x)\n",
        "x, y, x[y]"
      ],
      "execution_count": null,
      "outputs": [
        {
          "output_type": "execute_result",
          "data": {
            "text/plain": [
              "(array([3, 1, 2]), array([1, 2, 0]), array([1, 2, 3]))"
            ]
          },
          "metadata": {},
          "execution_count": 14
        }
      ]
    },
    {
      "cell_type": "code",
      "metadata": {
        "colab": {
          "base_uri": "https://localhost:8080/"
        },
        "id": "uBOYqoim8NZo",
        "outputId": "3d6dee5f-31b1-43ec-9b79-e66085395ed9"
      },
      "source": [
        "A=np.random.randint(10,size=(2,3))\n",
        "A, np.max(A), np.max(A,axis=0), np.max(A,axis=1)"
      ],
      "execution_count": null,
      "outputs": [
        {
          "output_type": "execute_result",
          "data": {
            "text/plain": [
              "(array([[9, 2, 0],\n",
              "        [1, 9, 8]]), 9, array([9, 9, 8]), array([9, 9]))"
            ]
          },
          "metadata": {},
          "execution_count": 18
        }
      ]
    },
    {
      "cell_type": "code",
      "metadata": {
        "colab": {
          "base_uri": "https://localhost:8080/"
        },
        "id": "IJCGDIaf8i91",
        "outputId": "f162a57c-3f6b-49e3-cdc6-70fedff6659b"
      },
      "source": [
        "A,np.min(A), np.min(A, axis=0), np.max(A,axis=1)"
      ],
      "execution_count": null,
      "outputs": [
        {
          "output_type": "execute_result",
          "data": {
            "text/plain": [
              "(array([[9, 2, 0],\n",
              "        [1, 9, 8]]), 0, array([1, 2, 0]), array([9, 9]))"
            ]
          },
          "metadata": {},
          "execution_count": 19
        }
      ]
    },
    {
      "cell_type": "code",
      "metadata": {
        "colab": {
          "base_uri": "https://localhost:8080/"
        },
        "id": "xeHOqQJP830t",
        "outputId": "82a01fe6-e0ca-4ffe-ffea-3d8c24972fd1"
      },
      "source": [
        "A=np.random.randint(10,size=(2,3))\n",
        "A, np.ptp(A), np.ptp(A, axis=0), np.ptp(A, axis=1)"
      ],
      "execution_count": null,
      "outputs": [
        {
          "output_type": "execute_result",
          "data": {
            "text/plain": [
              "(array([[1, 7, 1],\n",
              "        [3, 9, 7]]), 8, array([2, 2, 6]), array([6, 6]))"
            ]
          },
          "metadata": {},
          "execution_count": 20
        }
      ]
    },
    {
      "cell_type": "code",
      "metadata": {
        "colab": {
          "base_uri": "https://localhost:8080/"
        },
        "id": "Uw82LrrO9JC7",
        "outputId": "1777b1f7-2824-4207-cad3-9259c16d5ea0"
      },
      "source": [
        "np.searchsorted([1,2,3,4,5],3)"
      ],
      "execution_count": null,
      "outputs": [
        {
          "output_type": "execute_result",
          "data": {
            "text/plain": [
              "2"
            ]
          },
          "metadata": {},
          "execution_count": 22
        }
      ]
    },
    {
      "cell_type": "code",
      "metadata": {
        "colab": {
          "base_uri": "https://localhost:8080/"
        },
        "id": "1CUs4rGh9VLS",
        "outputId": "159f0089-d7e8-47d5-861d-04759ba33f33"
      },
      "source": [
        "np.searchsorted([1,2,3,4,5],3,side='right')"
      ],
      "execution_count": null,
      "outputs": [
        {
          "output_type": "execute_result",
          "data": {
            "text/plain": [
              "3"
            ]
          },
          "metadata": {},
          "execution_count": 23
        }
      ]
    },
    {
      "cell_type": "code",
      "metadata": {
        "colab": {
          "base_uri": "https://localhost:8080/"
        },
        "id": "cxDkYhuK9cl7",
        "outputId": "c4657bcc-e46c-4497-81b4-3e5341278dc3"
      },
      "source": [
        "x=np.array([3,1,2])\n",
        "x,x[np.argsort(x)],np.sort(x)"
      ],
      "execution_count": null,
      "outputs": [
        {
          "output_type": "execute_result",
          "data": {
            "text/plain": [
              "(array([3, 1, 2]), array([1, 2, 3]), array([1, 2, 3]))"
            ]
          },
          "metadata": {},
          "execution_count": 27
        }
      ]
    },
    {
      "cell_type": "code",
      "metadata": {
        "colab": {
          "base_uri": "https://localhost:8080/"
        },
        "id": "gGLkxBB__fSw",
        "outputId": "e5a3a808-a061-4d9d-d396-b5fc721b1d82"
      },
      "source": [
        "choices = [[0,1,2,3],[10,11,12,13],[20,21,22,23],[30,31,32,33]]\n",
        "np.choose([2,3,1,0], choices)"
      ],
      "execution_count": null,
      "outputs": [
        {
          "output_type": "execute_result",
          "data": {
            "text/plain": [
              "array([20, 31, 12,  3])"
            ]
          },
          "metadata": {},
          "execution_count": 29
        }
      ]
    },
    {
      "cell_type": "code",
      "metadata": {
        "colab": {
          "base_uri": "https://localhost:8080/"
        },
        "id": "gZPFmwOuAPCU",
        "outputId": "0c1f87d8-7eba-4bc9-d498-275b6d5548ec"
      },
      "source": [
        "A=np.array([[1,2],[3,4],[5,6]])\n",
        "A"
      ],
      "execution_count": null,
      "outputs": [
        {
          "output_type": "execute_result",
          "data": {
            "text/plain": [
              "array([[1, 2],\n",
              "       [3, 4],\n",
              "       [5, 6]])"
            ]
          },
          "metadata": {},
          "execution_count": 31
        }
      ]
    },
    {
      "cell_type": "code",
      "metadata": {
        "colab": {
          "base_uri": "https://localhost:8080/"
        },
        "id": "grOXNg8JAY20",
        "outputId": "972f8e05-fc33-4374-c6fa-38551eda9cf1"
      },
      "source": [
        "np.compress([False, True, True], A, axis=0)"
      ],
      "execution_count": null,
      "outputs": [
        {
          "output_type": "execute_result",
          "data": {
            "text/plain": [
              "array([[3, 4],\n",
              "       [5, 6]])"
            ]
          },
          "metadata": {},
          "execution_count": 32
        }
      ]
    },
    {
      "cell_type": "code",
      "metadata": {
        "colab": {
          "base_uri": "https://localhost:8080/"
        },
        "id": "XtEDb0VYAeIH",
        "outputId": "b05a2a04-64c8-41aa-e8ce-9023a55e0367"
      },
      "source": [
        "np.compress([False,True],A,axis=1)"
      ],
      "execution_count": null,
      "outputs": [
        {
          "output_type": "execute_result",
          "data": {
            "text/plain": [
              "array([[2],\n",
              "       [4],\n",
              "       [6]])"
            ]
          },
          "metadata": {},
          "execution_count": 33
        }
      ]
    },
    {
      "cell_type": "code",
      "metadata": {
        "colab": {
          "base_uri": "https://localhost:8080/"
        },
        "id": "0Gkbr-xnAybI",
        "outputId": "cb55a279-b64c-44ad-e431-6702441033b3"
      },
      "source": [
        "A=np.random.randint(3,size=(2,3))+1\n",
        "A"
      ],
      "execution_count": null,
      "outputs": [
        {
          "output_type": "execute_result",
          "data": {
            "text/plain": [
              "array([[2, 2, 2],\n",
              "       [3, 3, 1]])"
            ]
          },
          "metadata": {},
          "execution_count": 34
        }
      ]
    },
    {
      "cell_type": "code",
      "metadata": {
        "colab": {
          "base_uri": "https://localhost:8080/"
        },
        "id": "LJ5-WOMQBDxu",
        "outputId": "fdea3218-85b0-4c49-b678-1419bcaf3da6"
      },
      "source": [
        "np.cumprod(A)"
      ],
      "execution_count": null,
      "outputs": [
        {
          "output_type": "execute_result",
          "data": {
            "text/plain": [
              "array([ 2,  4,  8, 24, 72, 72])"
            ]
          },
          "metadata": {},
          "execution_count": 35
        }
      ]
    },
    {
      "cell_type": "code",
      "metadata": {
        "colab": {
          "base_uri": "https://localhost:8080/"
        },
        "id": "vOVVLTzyBGDA",
        "outputId": "be1aa5cb-0e5b-4105-a24b-7c329486af3d"
      },
      "source": [
        "np.cumprod(A, axis=0)"
      ],
      "execution_count": null,
      "outputs": [
        {
          "output_type": "execute_result",
          "data": {
            "text/plain": [
              "array([[2, 2, 2],\n",
              "       [6, 6, 2]])"
            ]
          },
          "metadata": {},
          "execution_count": 36
        }
      ]
    },
    {
      "cell_type": "code",
      "metadata": {
        "colab": {
          "base_uri": "https://localhost:8080/"
        },
        "id": "XIRcDcnmBJj6",
        "outputId": "b01963f2-43c4-4bf1-b6d7-0da60d6abe10"
      },
      "source": [
        "np.cumprod(A, axis=1)"
      ],
      "execution_count": null,
      "outputs": [
        {
          "output_type": "execute_result",
          "data": {
            "text/plain": [
              "array([[2, 4, 8],\n",
              "       [3, 9, 9]])"
            ]
          },
          "metadata": {},
          "execution_count": 37
        }
      ]
    },
    {
      "cell_type": "code",
      "metadata": {
        "colab": {
          "base_uri": "https://localhost:8080/"
        },
        "id": "KX5J4styBaSo",
        "outputId": "39223bee-ecc3-48f2-90f9-7b4f0a53f575"
      },
      "source": [
        "a=np.array([1,2,3])\n",
        "b=np.array([0,1,0])\n",
        "a,b"
      ],
      "execution_count": null,
      "outputs": [
        {
          "output_type": "execute_result",
          "data": {
            "text/plain": [
              "(array([1, 2, 3]), array([0, 1, 0]))"
            ]
          },
          "metadata": {},
          "execution_count": 38
        }
      ]
    },
    {
      "cell_type": "code",
      "metadata": {
        "colab": {
          "base_uri": "https://localhost:8080/"
        },
        "id": "A--cHrilBf9Q",
        "outputId": "a6911367-3b62-4153-8963-3fb696d1a9ed"
      },
      "source": [
        "np.inner(a,b), a*b, np.cumsum(a*b)"
      ],
      "execution_count": null,
      "outputs": [
        {
          "output_type": "execute_result",
          "data": {
            "text/plain": [
              "(2, array([0, 2, 0]), array([0, 2, 2]))"
            ]
          },
          "metadata": {},
          "execution_count": 39
        }
      ]
    },
    {
      "cell_type": "code",
      "metadata": {
        "colab": {
          "base_uri": "https://localhost:8080/"
        },
        "id": "_zQ85kqZBunz",
        "outputId": "a6379d46-7b51-4d4c-9b12-15017ec2591f"
      },
      "source": [
        "A=np.random.randint(10,size=(2,3))\n",
        "A"
      ],
      "execution_count": null,
      "outputs": [
        {
          "output_type": "execute_result",
          "data": {
            "text/plain": [
              "array([[1, 6, 6],\n",
              "       [4, 1, 3]])"
            ]
          },
          "metadata": {},
          "execution_count": 40
        }
      ]
    },
    {
      "cell_type": "code",
      "metadata": {
        "colab": {
          "base_uri": "https://localhost:8080/"
        },
        "id": "JdoDIGlyBzJg",
        "outputId": "e1dea0f5-be7b-469a-e337-5bc0ce57beea"
      },
      "source": [
        "np.cumsum(A)"
      ],
      "execution_count": null,
      "outputs": [
        {
          "output_type": "execute_result",
          "data": {
            "text/plain": [
              "array([ 1,  7, 13, 17, 18, 21])"
            ]
          },
          "metadata": {},
          "execution_count": 41
        }
      ]
    },
    {
      "cell_type": "code",
      "metadata": {
        "colab": {
          "base_uri": "https://localhost:8080/"
        },
        "id": "lO5EcfeIB1eb",
        "outputId": "c6f145c7-4876-46d5-ac24-96196c45160e"
      },
      "source": [
        "np.cumsum(A,axis=0)"
      ],
      "execution_count": null,
      "outputs": [
        {
          "output_type": "execute_result",
          "data": {
            "text/plain": [
              "array([[1, 6, 6],\n",
              "       [5, 7, 9]])"
            ]
          },
          "metadata": {},
          "execution_count": 43
        }
      ]
    },
    {
      "cell_type": "code",
      "metadata": {
        "colab": {
          "base_uri": "https://localhost:8080/"
        },
        "id": "X8T06F1AB7Lr",
        "outputId": "6e6167a7-5bb9-4946-e9c8-1f219199d7ed"
      },
      "source": [
        "np.cumsum(A,axis=1)"
      ],
      "execution_count": null,
      "outputs": [
        {
          "output_type": "execute_result",
          "data": {
            "text/plain": [
              "array([[ 1,  7, 13],\n",
              "       [ 4,  5,  8]])"
            ]
          },
          "metadata": {},
          "execution_count": 44
        }
      ]
    },
    {
      "cell_type": "code",
      "metadata": {
        "colab": {
          "base_uri": "https://localhost:8080/"
        },
        "id": "tkj63Na_CNjo",
        "outputId": "2185bfe3-f0ef-4456-aab7-70c312bfa1de"
      },
      "source": [
        "a=np.array([1,2])\n",
        "a"
      ],
      "execution_count": null,
      "outputs": [
        {
          "output_type": "execute_result",
          "data": {
            "text/plain": [
              "array([1, 2])"
            ]
          },
          "metadata": {},
          "execution_count": 45
        }
      ]
    },
    {
      "cell_type": "code",
      "metadata": {
        "colab": {
          "base_uri": "https://localhost:8080/"
        },
        "id": "oVR-ehubCQfv",
        "outputId": "83793d68-35ba-445d-a9fa-138909d09b0a"
      },
      "source": [
        "a.fill(0)\n",
        "a"
      ],
      "execution_count": null,
      "outputs": [
        {
          "output_type": "execute_result",
          "data": {
            "text/plain": [
              "array([0, 0])"
            ]
          },
          "metadata": {},
          "execution_count": 46
        }
      ]
    },
    {
      "cell_type": "code",
      "metadata": {
        "colab": {
          "base_uri": "https://localhost:8080/"
        },
        "id": "2IY03c1tCYDN",
        "outputId": "27f7b1be-7049-41ea-bf28-6f8f0b7df450"
      },
      "source": [
        "X=np.array([[1,2],[3,4]])\n",
        "X, np.prod(X), np.prod(X, axis=0), np.prod(X, axis=1)"
      ],
      "execution_count": null,
      "outputs": [
        {
          "output_type": "execute_result",
          "data": {
            "text/plain": [
              "(array([[1, 2],\n",
              "        [3, 4]]), 24, array([3, 8]), array([ 2, 12]))"
            ]
          },
          "metadata": {},
          "execution_count": 48
        }
      ]
    },
    {
      "cell_type": "code",
      "metadata": {
        "colab": {
          "base_uri": "https://localhost:8080/"
        },
        "id": "ICBSYnJdCqXu",
        "outputId": "aebdfd15-d44b-4d6a-dfbf-7e90d5edfeae"
      },
      "source": [
        "a=np.array([1+2j,3+4j, 5+6j])\n",
        "a.real, a.imag"
      ],
      "execution_count": null,
      "outputs": [
        {
          "output_type": "execute_result",
          "data": {
            "text/plain": [
              "(array([1., 3., 5.]), array([2., 4., 6.]))"
            ]
          },
          "metadata": {},
          "execution_count": 49
        }
      ]
    },
    {
      "cell_type": "code",
      "metadata": {
        "colab": {
          "base_uri": "https://localhost:8080/"
        },
        "id": "3vlNeZ92Cx4J",
        "outputId": "0a7fc8e6-ebc2-4ed1-a373-77ed460fcf80"
      },
      "source": [
        "A=np.array([[1,2],[3,4]])\n",
        "np.sum(A), np.sum(A,axis=0),np.sum(A,axis=1)"
      ],
      "execution_count": null,
      "outputs": [
        {
          "output_type": "execute_result",
          "data": {
            "text/plain": [
              "(10, array([4, 6]), array([3, 7]))"
            ]
          },
          "metadata": {},
          "execution_count": 51
        }
      ]
    },
    {
      "cell_type": "code",
      "metadata": {
        "colab": {
          "base_uri": "https://localhost:8080/"
        },
        "id": "KGmHqE_5JG0a",
        "outputId": "88dfd161-c879-4fae-e1b6-b2a46a0000fb"
      },
      "source": [
        "A=np.random.randint(10, size=(2,4))\n",
        "A"
      ],
      "execution_count": null,
      "outputs": [
        {
          "output_type": "execute_result",
          "data": {
            "text/plain": [
              "array([[2, 6, 1, 6],\n",
              "       [2, 3, 5, 5]])"
            ]
          },
          "metadata": {},
          "execution_count": 52
        }
      ]
    },
    {
      "cell_type": "code",
      "metadata": {
        "colab": {
          "base_uri": "https://localhost:8080/"
        },
        "id": "9Js9fuhoL_p2",
        "outputId": "d8220921-6a17-41a0-86a1-a91a7afe0cfd"
      },
      "source": [
        "np.mean(A),np.mean(A,axis=0),np.mean(A,axis=1)"
      ],
      "execution_count": null,
      "outputs": [
        {
          "output_type": "execute_result",
          "data": {
            "text/plain": [
              "(3.75, array([2. , 4.5, 3. , 5.5]), array([3.75, 3.75]))"
            ]
          },
          "metadata": {},
          "execution_count": 53
        }
      ]
    },
    {
      "cell_type": "code",
      "metadata": {
        "colab": {
          "base_uri": "https://localhost:8080/"
        },
        "id": "Uxf9XNXpMFAX",
        "outputId": "fa132c3b-7228-4a06-ce23-2d8b1490b31f"
      },
      "source": [
        "np.var(A), np.var(A,axis=0), np.var(A,axis=1)"
      ],
      "execution_count": null,
      "outputs": [
        {
          "output_type": "execute_result",
          "data": {
            "text/plain": [
              "(3.4375, array([0.  , 2.25, 4.  , 0.25]), array([5.1875, 1.6875]))"
            ]
          },
          "metadata": {},
          "execution_count": 54
        }
      ]
    },
    {
      "cell_type": "code",
      "metadata": {
        "colab": {
          "base_uri": "https://localhost:8080/"
        },
        "id": "PC3nM9MQMMhw",
        "outputId": "8e44d781-8004-430b-8e9b-89728b48db50"
      },
      "source": [
        "np.std(A),np.std(A,axis=0),np.std(A,axis=1)"
      ],
      "execution_count": null,
      "outputs": [
        {
          "output_type": "execute_result",
          "data": {
            "text/plain": [
              "(1.8540496217739157,\n",
              " array([0. , 1.5, 2. , 0.5]),\n",
              " array([2.27760839, 1.29903811]))"
            ]
          },
          "metadata": {},
          "execution_count": 55
        }
      ]
    },
    {
      "cell_type": "code",
      "metadata": {
        "colab": {
          "base_uri": "https://localhost:8080/"
        },
        "id": "OY6MF-LSMXYv",
        "outputId": "1e0eebef-1998-4462-8f6a-d99a17d7ca5d"
      },
      "source": [
        "a=np.random.rand(1,2)\n",
        "b=np.random.rand(1,2)\n",
        "a, b"
      ],
      "execution_count": null,
      "outputs": [
        {
          "output_type": "execute_result",
          "data": {
            "text/plain": [
              "(array([[0.44825645, 0.84073126]]), array([[0.96098319, 0.25480738]]))"
            ]
          },
          "metadata": {},
          "execution_count": 57
        }
      ]
    },
    {
      "cell_type": "code",
      "metadata": {
        "colab": {
          "base_uri": "https://localhost:8080/"
        },
        "id": "T_APB1fiMchB",
        "outputId": "9e845eaf-0e07-413b-a35e-561ca7d506a6"
      },
      "source": [
        "np.cov(a,b)"
      ],
      "execution_count": null,
      "outputs": [
        {
          "output_type": "execute_result",
          "data": {
            "text/plain": [
              "array([[ 0.07701824, -0.13857811],\n",
              "       [-0.13857811,  0.24934214]])"
            ]
          },
          "metadata": {},
          "execution_count": 58
        }
      ]
    },
    {
      "cell_type": "code",
      "metadata": {
        "colab": {
          "base_uri": "https://localhost:8080/"
        },
        "id": "JRaobbzIM45Z",
        "outputId": "558ab250-b108-4dc8-a54f-fe9ca8c3728a"
      },
      "source": [
        "x=np.array([1,2,3])\n",
        "y=np.array([4,5,6])\n",
        "np.cross(x,y)"
      ],
      "execution_count": null,
      "outputs": [
        {
          "output_type": "execute_result",
          "data": {
            "text/plain": [
              "array([-3,  6, -3])"
            ]
          },
          "metadata": {},
          "execution_count": 61
        }
      ]
    },
    {
      "cell_type": "code",
      "metadata": {
        "colab": {
          "base_uri": "https://localhost:8080/"
        },
        "id": "ZcwcxxMPNDsM",
        "outputId": "92cee5a8-22f6-4ca9-b688-588821f623bc"
      },
      "source": [
        "A=np.array([[1,2],[3,4]])\n",
        "B=np.array([[4,5],[6,7]])\n",
        "np.dot(A,B)"
      ],
      "execution_count": null,
      "outputs": [
        {
          "output_type": "execute_result",
          "data": {
            "text/plain": [
              "array([[16, 19],\n",
              "       [36, 43]])"
            ]
          },
          "metadata": {},
          "execution_count": 63
        }
      ]
    },
    {
      "cell_type": "code",
      "metadata": {
        "colab": {
          "base_uri": "https://localhost:8080/"
        },
        "id": "TVGR2u4CNCSr",
        "outputId": "ea73142b-0a5c-4d0c-af45-4a40b7bd74ad"
      },
      "source": [
        "A@B"
      ],
      "execution_count": null,
      "outputs": [
        {
          "output_type": "execute_result",
          "data": {
            "text/plain": [
              "array([[16, 19],\n",
              "       [36, 43]])"
            ]
          },
          "metadata": {},
          "execution_count": 64
        }
      ]
    },
    {
      "cell_type": "code",
      "metadata": {
        "colab": {
          "base_uri": "https://localhost:8080/"
        },
        "id": "AhhmgFeHNWx3",
        "outputId": "9a62c9b3-2e7d-4b77-c632-38806a313f90"
      },
      "source": [
        "u=np.array([1,2,3]).T\n",
        "v=np.array([4,5,6]).T\n",
        "np.outer(u,v)"
      ],
      "execution_count": null,
      "outputs": [
        {
          "output_type": "execute_result",
          "data": {
            "text/plain": [
              "array([[ 4,  5,  6],\n",
              "       [ 8, 10, 12],\n",
              "       [12, 15, 18]])"
            ]
          },
          "metadata": {},
          "execution_count": 65
        }
      ]
    },
    {
      "cell_type": "code",
      "metadata": {
        "colab": {
          "base_uri": "https://localhost:8080/"
        },
        "id": "ThvVz999Q26_",
        "outputId": "3b309b2c-58d3-4e7d-e83a-153c3b94df1c"
      },
      "source": [
        " a=np.array([1+2j,3+4j])\n",
        "b=np.array([5+6j,7+8j])\n",
        "np.vdot(a,b), np.vdot(b,a)"
      ],
      "execution_count": null,
      "outputs": [
        {
          "output_type": "execute_result",
          "data": {
            "text/plain": [
              "((70-8j), (70+8j))"
            ]
          },
          "metadata": {},
          "execution_count": 66
        }
      ]
    },
    {
      "cell_type": "code",
      "metadata": {
        "id": "ryPUEiCQSoTM"
      },
      "source": [
        " a=np.array([1,3+4j])"
      ],
      "execution_count": null,
      "outputs": []
    },
    {
      "cell_type": "markdown",
      "metadata": {
        "id": "fMc2hKGAaaCM"
      },
      "source": [
        ""
      ]
    },
    {
      "cell_type": "code",
      "metadata": {
        "id": "2H3Uixp8abon"
      },
      "source": [
        ""
      ],
      "execution_count": null,
      "outputs": []
    }
  ]
}